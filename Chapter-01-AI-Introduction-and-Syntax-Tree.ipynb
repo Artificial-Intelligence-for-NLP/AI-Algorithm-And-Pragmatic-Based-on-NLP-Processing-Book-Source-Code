{
 "cells": [
  {
   "cell_type": "code",
   "execution_count": 76,
   "metadata": {},
   "outputs": [],
   "source": [
    "grammar = \"\"\"\n",
    "句子 => 名词短语 动词短语 \n",
    "名词短语 => 冠词 形容词* 名词\n",
    "形容词* => null | 形容词 形容词*\n",
    "动词短语 => 动词 名词短语\n",
    "冠词 =>  一个 | 这个\n",
    "名词 =>   男人 | 女人 |  篮球 | 桌子 | 小猫 \n",
    "动词 => 看着 | 听见 | 看见\n",
    "形容词 =>   蓝色的 |  好看的 | 小小的 |  年轻的 \n",
    "\"\"\""
   ]
  },
  {
   "cell_type": "code",
   "execution_count": 6,
   "metadata": {},
   "outputs": [],
   "source": [
    "import random\n",
    "\n",
    "concat = ''.join  # concat is the abbreviation of concatenate\n",
    "\n",
    "def sentence(): return concat([noun_phrase(), verb_phrase()])\n",
    "def noun_phrase(): return concat([article(), adj_star(), noun()])\n",
    "def adj_star(): return concat([adj() for _ in range(random.randrange(5))]) \n",
    "# 5 is the maximum number of adj\n",
    "def verb_phrase(): return concat([verb(), noun_phrase()])\n",
    "def article(): return random.choice(['一个', '这个'])\n",
    "def noun(): return random.choice(['男人', '女人', '篮球', '桌子', '小猫'])\n",
    "def verb(): return random.choice(['看见', '听见', '看着'])\n",
    "def adj(): return random.choice(['蓝色的', '好看的', '小小的', '年轻的'])"
   ]
  },
  {
   "cell_type": "code",
   "execution_count": 7,
   "metadata": {},
   "outputs": [
    {
     "data": {
      "text/plain": [
       "'这个好看的好看的小小的桌子看着一个小小的好看的蓝色的篮球'"
      ]
     },
     "execution_count": 7,
     "metadata": {},
     "output_type": "execute_result"
    }
   ],
   "source": [
    "sentence()"
   ]
  },
  {
   "cell_type": "code",
   "execution_count": 120,
   "metadata": {},
   "outputs": [],
   "source": [
    "bank_host = \"\"\"\n",
    "host = 寒暄 报数 询问 业务相关 结尾 \n",
    "报数 = 我是 数字 号 ,\n",
    "数字 = 单个数字 | 数字 单个数字 \n",
    "单个数字 = 1 | 2 | 3 | 4 | 5 | 6 | 7 | 8 | 9 \n",
    "寒暄 = 称谓 打招呼 | 打招呼\n",
    "称谓 = 人称 ,\n",
    "人称 = 先生 | 女士 | 小朋友\n",
    "打招呼 = 你好 | 您好 \n",
    "询问 = 请问你要 | 您需要\n",
    "业务相关 = 行为 具体业务\n",
    "行为 = 办理 | 进行\n",
    "具体业务 = 开户 | 存款 | 基金理财 | 密码\n",
    "结尾 = 服务吗？\"\"\""
   ]
  },
  {
   "cell_type": "code",
   "execution_count": null,
   "metadata": {},
   "outputs": [],
   "source": [
    "X = [(W, Y), (Z)]"
   ]
  },
  {
   "cell_type": "code",
   "execution_count": null,
   "metadata": {},
   "outputs": [],
   "source": [
    "def generate(X): return concat(random.choice(X)) "
   ]
  },
  {
   "cell_type": "code",
   "execution_count": 38,
   "metadata": {},
   "outputs": [],
   "source": [
    "def parser(string_rule, gen='->', split='|'): \n",
    "    \"\"\"e.g @param is X -> W Y | Z\n",
    "    the parser will generate {X: [(W, Y), (Z)]}\n",
    "    \"\"\"\n",
    "    expression, statement = string_rule.split(gen)\n",
    "    statement = [s.split() for s in statement.split(split)]\n",
    "    return {expression.strip(): statement}"
   ]
  },
  {
   "cell_type": "code",
   "execution_count": 39,
   "metadata": {},
   "outputs": [
    {
     "data": {
      "text/plain": [
       "{'X': [['W', 'Y'], ['Z']]}"
      ]
     },
     "execution_count": 39,
     "metadata": {},
     "output_type": "execute_result"
    }
   ],
   "source": [
    "parser('X -> W Y | Z')"
   ]
  },
  {
   "cell_type": "code",
   "execution_count": 51,
   "metadata": {},
   "outputs": [
    {
     "data": {
      "text/plain": [
       "{'二进制': [['0'], ['1'], ['二进制', '二进制']]}"
      ]
     },
     "execution_count": 51,
     "metadata": {},
     "output_type": "execute_result"
    }
   ],
   "source": [
    "parser('二进制 = 0 || 1 || 二进制 二进制', gen='=', split='||')"
   ]
  },
  {
   "cell_type": "code",
   "execution_count": 41,
   "metadata": {},
   "outputs": [],
   "source": [
    "def generate(rule, gene):\n",
    "    return ''.join(random.choice(rule[gene]))"
   ]
  },
  {
   "cell_type": "code",
   "execution_count": 65,
   "metadata": {},
   "outputs": [
    {
     "data": {
      "text/plain": [
       "'WY'"
      ]
     },
     "execution_count": 65,
     "metadata": {},
     "output_type": "execute_result"
    }
   ],
   "source": [
    "generate(parser('X -> W Y | Z'), 'X')"
   ]
  },
  {
   "cell_type": "code",
   "execution_count": 60,
   "metadata": {},
   "outputs": [
    {
     "data": {
      "text/plain": [
       "'二进制二进制'"
      ]
     },
     "execution_count": 60,
     "metadata": {},
     "output_type": "execute_result"
    }
   ],
   "source": [
    "generate(parser('二进制 = 0 || 1 || 二进制 二进制', gen='=', split='||'), '二进制')"
   ]
  },
  {
   "cell_type": "code",
   "execution_count": 70,
   "metadata": {},
   "outputs": [
    {
     "data": {
      "text/plain": [
       "'好看的'"
      ]
     },
     "execution_count": 70,
     "metadata": {},
     "output_type": "execute_result"
    }
   ],
   "source": [
    "generate(parser('形容词 =>   蓝色的 |  好看的 | 小小的 |  年轻的', gen='=>'), '形容词')"
   ]
  },
  {
   "cell_type": "code",
   "execution_count": 71,
   "metadata": {},
   "outputs": [],
   "source": [
    "def build_grammar(grammar_str,split=\"=\"):\n",
    "    grammar_dict = {}\n",
    "    l = []\n",
    "    for line in grammar.split(\"\\n\"):\n",
    "        if not line: continue\n",
    "        stmt,expr = line.split(split)\n",
    "        stmt = stmt.strip()\n",
    "        expr = [e.split() for e in expr.split('|')]\n",
    "        grammar_dict[stmt] = expr\n",
    "    return grammar_dict"
   ]
  },
  {
   "cell_type": "code",
   "execution_count": 78,
   "metadata": {},
   "outputs": [
    {
     "data": {
      "text/plain": [
       "{'句子': [['名词短语', '动词短语']],\n",
       " '名词短语': [['冠词', '形容词*', '名词']],\n",
       " '形容词*': [['null'], ['形容词', '形容词*']],\n",
       " '动词短语': [['动词', '名词短语']],\n",
       " '冠词': [['一个'], ['这个']],\n",
       " '名词': [['男人'], ['女人'], ['篮球'], ['桌子'], ['小猫']],\n",
       " '动词': [['看着'], ['听见'], ['看见']],\n",
       " '形容词': [['蓝色的'], ['好看的'], ['小小的'], ['年轻的']]}"
      ]
     },
     "execution_count": 78,
     "metadata": {},
     "output_type": "execute_result"
    }
   ],
   "source": [
    "build_grammar(grammar, split='=>')"
   ]
  },
  {
   "cell_type": "code",
   "execution_count": null,
   "metadata": {},
   "outputs": [],
   "source": [
    "def generate(string):\n",
    "    return ''.join(generate(s) for s in random.choice(string))"
   ]
  },
  {
   "cell_type": "code",
   "execution_count": 79,
   "metadata": {},
   "outputs": [],
   "source": [
    "def generate(target, grammar_dict):\n",
    "    if target == 'null': # null 应该返回空字符串，而不是'null'\n",
    "        return ''\n",
    "    if target not in grammar_dict: return target\n",
    "    expr = random.choice(grammar_dict[targetStmt])\n",
    "    return ''.join([generate(e,grammar_dict) for e in expr])"
   ]
  },
  {
   "cell_type": "code",
   "execution_count": 88,
   "metadata": {},
   "outputs": [],
   "source": [
    "def generate(target, grammar_dict):\n",
    "    if target not in grammar_dict: return target\n",
    "    # target 不在 grammar 的字典的键中，说明该 target 不能被继续扩展，我们之间返回它\n",
    "    \n",
    "    expr = random.choice(grammar_dict[target])  # 获得随机的表达式\n",
    "    return ''.join([generate(e,grammar_dict) for e in expr if e != 'null'])"
   ]
  },
  {
   "cell_type": "code",
   "execution_count": 95,
   "metadata": {},
   "outputs": [],
   "source": [
    "grammar_dict = {'句子': [['名词短语', '动词短语']],\n",
    " '名词短语': [['冠词', '形容词*', '名词']],\n",
    " '形容词*': [['null'], ['形容词', '形容词*']],\n",
    " '动词短语': [['动词', '名词短语']],\n",
    " '冠词': [['一个'], ['这个']],\n",
    " '名词': [['男人'], ['女人'], ['篮球'], ['桌子'], ['小猫']],\n",
    " '动词': [['看着'], ['听见'], ['看见']],\n",
    " '形容词': [['蓝色的'], ['好看的'], ['小小的'], ['年轻的']]}\n"
   ]
  },
  {
   "cell_type": "code",
   "execution_count": 102,
   "metadata": {},
   "outputs": [
    {
     "data": {
      "text/plain": [
       "'这个篮球看着这个好看的蓝色的桌子'"
      ]
     },
     "execution_count": 102,
     "metadata": {},
     "output_type": "execute_result"
    }
   ],
   "source": [
    "generate('句子', grammar_dict)"
   ]
  },
  {
   "cell_type": "code",
   "execution_count": 109,
   "metadata": {},
   "outputs": [],
   "source": [
    "def parser(string_rule, gen='->', split='|'): \n",
    "    grammar_dict = {}\n",
    "    l = []\n",
    "    for line in string_rule.split(\"\\n\"):\n",
    "        if not line: continue\n",
    "        stmt,expr = line.split(gen)\n",
    "        stmt = stmt.strip()\n",
    "        expr = [e.split() for e in expr.split(split)]\n",
    "        grammar_dict[stmt] = expr\n",
    "    return grammar_dict"
   ]
  },
  {
   "cell_type": "code",
   "execution_count": 112,
   "metadata": {},
   "outputs": [
    {
     "data": {
      "text/plain": [
       "{'host': [['寒暄', '报数', '询问', '业务相关', '结尾']],\n",
       " '报数': [['我是', '数字', '号', ',']],\n",
       " '数字': [['单个数字'], ['数字', '单个数字']],\n",
       " '单个数字': [['1'], ['2'], ['3'], ['4'], ['5'], ['6'], ['7'], ['8'], ['9']],\n",
       " '寒暄': [['称谓', '打招呼'], ['打招呼']],\n",
       " '称谓': [['人称', ',']],\n",
       " '人称': [['先生'], ['女士'], ['小朋友']],\n",
       " '打招呼': [['你好'], ['您好']],\n",
       " '询问': [['请问你要'], ['您需要']],\n",
       " '业务相关': [['行为']],\n",
       " '行为': [['办理'], ['进行']],\n",
       " '具体业务': [['开户'], ['存款'], ['基金理财'], ['密码']],\n",
       " '结尾': [['服务吗？']]}"
      ]
     },
     "execution_count": 112,
     "metadata": {},
     "output_type": "execute_result"
    }
   ],
   "source": [
    "parser(bank_host, gen='=')"
   ]
  },
  {
   "cell_type": "code",
   "execution_count": 115,
   "metadata": {},
   "outputs": [],
   "source": [
    "def generate_from_grammar(grammar, target, gen='=>', split='|'):\n",
    "    return generate(target, parser(grammar, gen=gen, split=split))"
   ]
  },
  {
   "cell_type": "code",
   "execution_count": 145,
   "metadata": {},
   "outputs": [
    {
     "data": {
      "text/plain": [
       "'这个男人看见这个小小的年轻的小猫'"
      ]
     },
     "execution_count": 145,
     "metadata": {},
     "output_type": "execute_result"
    }
   ],
   "source": [
    "generate_from_grammar(grammar, '句子', gen='=>')"
   ]
  }
 ],
 "metadata": {
  "kernelspec": {
   "display_name": "Python 3",
   "language": "python",
   "name": "python3"
  },
  "language_info": {
   "codemirror_mode": {
    "name": "ipython",
    "version": 3
   },
   "file_extension": ".py",
   "mimetype": "text/x-python",
   "name": "python",
   "nbconvert_exporter": "python",
   "pygments_lexer": "ipython3",
   "version": "3.6.5"
  }
 },
 "nbformat": 4,
 "nbformat_minor": 2
}
