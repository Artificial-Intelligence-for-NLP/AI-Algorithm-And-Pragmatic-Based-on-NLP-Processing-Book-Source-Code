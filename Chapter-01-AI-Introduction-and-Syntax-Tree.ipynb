{
 "cells": [
  {
   "cell_type": "markdown",
   "metadata": {},
   "source": [
    "## Rule based Intelligent Agent"
   ]
  },
  {
   "cell_type": "code",
   "execution_count": 76,
   "metadata": {},
   "outputs": [],
   "source": [
    "grammar = \"\"\"\n",
    "句子 => 名词短语 动词短语 \n",
    "名词短语 => 冠词 形容词* 名词\n",
    "形容词* => null | 形容词 形容词*\n",
    "动词短语 => 动词 名词短语\n",
    "冠词 =>  一个 | 这个\n",
    "名词 =>   男人 | 女人 |  篮球 | 桌子 | 小猫 \n",
    "动词 => 看着 | 听见 | 看见\n",
    "形容词 =>   蓝色的 |  好看的 | 小小的 |  年轻的 \n",
    "\"\"\""
   ]
  },
  {
   "cell_type": "code",
   "execution_count": 6,
   "metadata": {},
   "outputs": [],
   "source": [
    "import random\n",
    "\n",
    "concat = ''.join  # concat is the abbreviation of concatenate\n",
    "\n",
    "def sentence(): return concat([noun_phrase(), verb_phrase()])\n",
    "def noun_phrase(): return concat([article(), adj_star(), noun()])\n",
    "def adj_star(): return concat([adj() for _ in range(random.randrange(5))]) \n",
    "# 5 is the maximum number of adj\n",
    "def verb_phrase(): return concat([verb(), noun_phrase()])\n",
    "def article(): return random.choice(['一个', '这个'])\n",
    "def noun(): return random.choice(['男人', '女人', '篮球', '桌子', '小猫'])\n",
    "def verb(): return random.choice(['看见', '听见', '看着'])\n",
    "def adj(): return random.choice(['蓝色的', '好看的', '小小的', '年轻的'])"
   ]
  },
  {
   "cell_type": "code",
   "execution_count": 7,
   "metadata": {},
   "outputs": [
    {
     "data": {
      "text/plain": [
       "'这个好看的好看的小小的桌子看着一个小小的好看的蓝色的篮球'"
      ]
     },
     "execution_count": 7,
     "metadata": {},
     "output_type": "execute_result"
    }
   ],
   "source": [
    "sentence()"
   ]
  },
  {
   "cell_type": "code",
   "execution_count": 120,
   "metadata": {},
   "outputs": [],
   "source": [
    "bank_host = \"\"\"\n",
    "host = 寒暄 报数 询问 业务相关 结尾 \n",
    "报数 = 我是 数字 号 ,\n",
    "数字 = 单个数字 | 数字 单个数字 \n",
    "单个数字 = 1 | 2 | 3 | 4 | 5 | 6 | 7 | 8 | 9 \n",
    "寒暄 = 称谓 打招呼 | 打招呼\n",
    "称谓 = 人称 ,\n",
    "人称 = 先生 | 女士 | 小朋友\n",
    "打招呼 = 你好 | 您好 \n",
    "询问 = 请问你要 | 您需要\n",
    "业务相关 = 行为 具体业务\n",
    "行为 = 办理 | 进行\n",
    "具体业务 = 开户 | 存款 | 基金理财 | 密码\n",
    "结尾 = 服务吗？\"\"\""
   ]
  },
  {
   "cell_type": "code",
   "execution_count": null,
   "metadata": {},
   "outputs": [],
   "source": [
    "X = [(W, Y), (Z)]"
   ]
  },
  {
   "cell_type": "code",
   "execution_count": null,
   "metadata": {},
   "outputs": [],
   "source": [
    "def generate(X): return concat(random.choice(X)) "
   ]
  },
  {
   "cell_type": "code",
   "execution_count": 38,
   "metadata": {},
   "outputs": [],
   "source": [
    "def parser(string_rule, gen='->', split='|'): \n",
    "    \"\"\"e.g @param is X -> W Y | Z\n",
    "    the parser will generate {X: [(W, Y), (Z)]}\n",
    "    \"\"\"\n",
    "    expression, statement = string_rule.split(gen)\n",
    "    statement = [s.split() for s in statement.split(split)]\n",
    "    return {expression.strip(): statement}"
   ]
  },
  {
   "cell_type": "code",
   "execution_count": 39,
   "metadata": {},
   "outputs": [
    {
     "data": {
      "text/plain": [
       "{'X': [['W', 'Y'], ['Z']]}"
      ]
     },
     "execution_count": 39,
     "metadata": {},
     "output_type": "execute_result"
    }
   ],
   "source": [
    "parser('X -> W Y | Z')"
   ]
  },
  {
   "cell_type": "code",
   "execution_count": 51,
   "metadata": {},
   "outputs": [
    {
     "data": {
      "text/plain": [
       "{'二进制': [['0'], ['1'], ['二进制', '二进制']]}"
      ]
     },
     "execution_count": 51,
     "metadata": {},
     "output_type": "execute_result"
    }
   ],
   "source": [
    "parser('二进制 = 0 || 1 || 二进制 二进制', gen='=', split='||')"
   ]
  },
  {
   "cell_type": "code",
   "execution_count": 41,
   "metadata": {},
   "outputs": [],
   "source": [
    "def generate(rule, gene):\n",
    "    return ''.join(random.choice(rule[gene]))"
   ]
  },
  {
   "cell_type": "code",
   "execution_count": 65,
   "metadata": {},
   "outputs": [
    {
     "data": {
      "text/plain": [
       "'WY'"
      ]
     },
     "execution_count": 65,
     "metadata": {},
     "output_type": "execute_result"
    }
   ],
   "source": [
    "generate(parser('X -> W Y | Z'), 'X')"
   ]
  },
  {
   "cell_type": "code",
   "execution_count": 60,
   "metadata": {},
   "outputs": [
    {
     "data": {
      "text/plain": [
       "'二进制二进制'"
      ]
     },
     "execution_count": 60,
     "metadata": {},
     "output_type": "execute_result"
    }
   ],
   "source": [
    "generate(parser('二进制 = 0 || 1 || 二进制 二进制', gen='=', split='||'), '二进制')"
   ]
  },
  {
   "cell_type": "code",
   "execution_count": 70,
   "metadata": {},
   "outputs": [
    {
     "data": {
      "text/plain": [
       "'好看的'"
      ]
     },
     "execution_count": 70,
     "metadata": {},
     "output_type": "execute_result"
    }
   ],
   "source": [
    "generate(parser('形容词 =>   蓝色的 |  好看的 | 小小的 |  年轻的', gen='=>'), '形容词')"
   ]
  },
  {
   "cell_type": "code",
   "execution_count": 71,
   "metadata": {},
   "outputs": [],
   "source": [
    "def build_grammar(grammar_str,split=\"=\"):\n",
    "    grammar_dict = {}\n",
    "    l = []\n",
    "    for line in grammar.split(\"\\n\"):\n",
    "        if not line: continue\n",
    "        stmt,expr = line.split(split)\n",
    "        stmt = stmt.strip()\n",
    "        expr = [e.split() for e in expr.split('|')]\n",
    "        grammar_dict[stmt] = expr\n",
    "    return grammar_dict"
   ]
  },
  {
   "cell_type": "code",
   "execution_count": 78,
   "metadata": {},
   "outputs": [
    {
     "data": {
      "text/plain": [
       "{'句子': [['名词短语', '动词短语']],\n",
       " '名词短语': [['冠词', '形容词*', '名词']],\n",
       " '形容词*': [['null'], ['形容词', '形容词*']],\n",
       " '动词短语': [['动词', '名词短语']],\n",
       " '冠词': [['一个'], ['这个']],\n",
       " '名词': [['男人'], ['女人'], ['篮球'], ['桌子'], ['小猫']],\n",
       " '动词': [['看着'], ['听见'], ['看见']],\n",
       " '形容词': [['蓝色的'], ['好看的'], ['小小的'], ['年轻的']]}"
      ]
     },
     "execution_count": 78,
     "metadata": {},
     "output_type": "execute_result"
    }
   ],
   "source": [
    "build_grammar(grammar, split='=>')"
   ]
  },
  {
   "cell_type": "code",
   "execution_count": null,
   "metadata": {},
   "outputs": [],
   "source": [
    "def generate(string):\n",
    "    return ''.join(generate(s) for s in random.choice(string))"
   ]
  },
  {
   "cell_type": "code",
   "execution_count": 79,
   "metadata": {},
   "outputs": [],
   "source": [
    "def generate(target, grammar_dict):\n",
    "    if target == 'null': # null 应该返回空字符串，而不是'null'\n",
    "        return ''\n",
    "    if target not in grammar_dict: return target\n",
    "    expr = random.choice(grammar_dict[targetStmt])\n",
    "    return ''.join([generate(e,grammar_dict) for e in expr])"
   ]
  },
  {
   "cell_type": "code",
   "execution_count": 88,
   "metadata": {},
   "outputs": [],
   "source": [
    "def generate(target, grammar_dict):\n",
    "    if target not in grammar_dict: return target\n",
    "    # target 不在 grammar 的字典的键中，说明该 target 不能被继续扩展，我们之间返回它\n",
    "    \n",
    "    expr = random.choice(grammar_dict[target])  # 获得随机的表达式\n",
    "    return ''.join([generate(e,grammar_dict) for e in expr if e != 'null'])"
   ]
  },
  {
   "cell_type": "code",
   "execution_count": 95,
   "metadata": {},
   "outputs": [],
   "source": [
    "grammar_dict = {'句子': [['名词短语', '动词短语']],\n",
    " '名词短语': [['冠词', '形容词*', '名词']],\n",
    " '形容词*': [['null'], ['形容词', '形容词*']],\n",
    " '动词短语': [['动词', '名词短语']],\n",
    " '冠词': [['一个'], ['这个']],\n",
    " '名词': [['男人'], ['女人'], ['篮球'], ['桌子'], ['小猫']],\n",
    " '动词': [['看着'], ['听见'], ['看见']],\n",
    " '形容词': [['蓝色的'], ['好看的'], ['小小的'], ['年轻的']]}\n"
   ]
  },
  {
   "cell_type": "code",
   "execution_count": 102,
   "metadata": {},
   "outputs": [
    {
     "data": {
      "text/plain": [
       "'这个篮球看着这个好看的蓝色的桌子'"
      ]
     },
     "execution_count": 102,
     "metadata": {},
     "output_type": "execute_result"
    }
   ],
   "source": [
    "generate('句子', grammar_dict)"
   ]
  },
  {
   "cell_type": "code",
   "execution_count": 109,
   "metadata": {},
   "outputs": [],
   "source": [
    "def parser(string_rule, gen='->', split='|'): \n",
    "    grammar_dict = {}\n",
    "    l = []\n",
    "    for line in string_rule.split(\"\\n\"):\n",
    "        if not line: continue\n",
    "        stmt,expr = line.split(gen)\n",
    "        stmt = stmt.strip()\n",
    "        expr = [e.split() for e in expr.split(split)]\n",
    "        grammar_dict[stmt] = expr\n",
    "    return grammar_dict"
   ]
  },
  {
   "cell_type": "code",
   "execution_count": 112,
   "metadata": {},
   "outputs": [
    {
     "data": {
      "text/plain": [
       "{'host': [['寒暄', '报数', '询问', '业务相关', '结尾']],\n",
       " '报数': [['我是', '数字', '号', ',']],\n",
       " '数字': [['单个数字'], ['数字', '单个数字']],\n",
       " '单个数字': [['1'], ['2'], ['3'], ['4'], ['5'], ['6'], ['7'], ['8'], ['9']],\n",
       " '寒暄': [['称谓', '打招呼'], ['打招呼']],\n",
       " '称谓': [['人称', ',']],\n",
       " '人称': [['先生'], ['女士'], ['小朋友']],\n",
       " '打招呼': [['你好'], ['您好']],\n",
       " '询问': [['请问你要'], ['您需要']],\n",
       " '业务相关': [['行为']],\n",
       " '行为': [['办理'], ['进行']],\n",
       " '具体业务': [['开户'], ['存款'], ['基金理财'], ['密码']],\n",
       " '结尾': [['服务吗？']]}"
      ]
     },
     "execution_count": 112,
     "metadata": {},
     "output_type": "execute_result"
    }
   ],
   "source": [
    "parser(bank_host, gen='=')"
   ]
  },
  {
   "cell_type": "code",
   "execution_count": 115,
   "metadata": {},
   "outputs": [],
   "source": [
    "def generate_from_grammar(grammar, target, gen='=>', split='|'):\n",
    "    return generate(target, parser(grammar, gen=gen, split=split))"
   ]
  },
  {
   "cell_type": "code",
   "execution_count": 145,
   "metadata": {},
   "outputs": [
    {
     "data": {
      "text/plain": [
       "'这个男人看见这个小小的年轻的小猫'"
      ]
     },
     "execution_count": 145,
     "metadata": {},
     "output_type": "execute_result"
    }
   ],
   "source": [
    "generate_from_grammar(grammar, '句子', gen='=>')"
   ]
  },
  {
   "cell_type": "markdown",
   "metadata": {},
   "source": [
    "## Search Based Intelligent Agent"
   ]
  },
  {
   "cell_type": "code",
   "execution_count": 1,
   "metadata": {},
   "outputs": [],
   "source": [
    "BJ, SZ, GZ, WH, HEB, NY, CM, SG = '北京', '深圳', '广州', '武汉', '哈尔滨', '纽约', '清迈', '新加坡'\n",
    "\n",
    "air_route = {\n",
    "    BJ : {SZ, GZ, WH, HEB, NY}, \n",
    "    GZ : {WH, BJ, CM, SG},\n",
    "    SZ : {BJ, SG},\n",
    "    WH : {BJ, GZ},\n",
    "    HEB : {BJ},\n",
    "    CM : {GZ},\n",
    "    NY : {BJ},\n",
    "    SG : {GZ,SZ} \n",
    "}"
   ]
  },
  {
   "cell_type": "code",
   "execution_count": 3,
   "metadata": {},
   "outputs": [],
   "source": [
    "%matplotlib inline"
   ]
  },
  {
   "cell_type": "code",
   "execution_count": 4,
   "metadata": {},
   "outputs": [
    {
     "name": "stderr",
     "output_type": "stream",
     "text": [
      "/anaconda3/envs/ibm/lib/python3.6/site-packages/networkx/drawing/nx_pylab.py:611: MatplotlibDeprecationWarning: isinstance(..., numbers.Number)\n",
      "  if cb.is_numlike(alpha):\n"
     ]
    },
    {
     "data": {
      "image/png": "[encoded data removed]",
      "text/plain": [
       "<Figure size 432x288 with 1 Axes>"
      ]
     },
     "metadata": {},
     "output_type": "display_data"
    }
   ],
   "source": [
    "import networkx\n",
    "air_route = networkx.Graph(air_route)\n",
    "networkx.draw(air_route, with_labels=True, text_size=20, node_size=10)            "
   ]
  },
  {
   "cell_type": "code",
   "execution_count": 7,
   "metadata": {},
   "outputs": [],
   "source": [
    "def search(graph,start):\n",
    "    seen = set()\n",
    "    need_visit = [start]\n",
    "    while need_visit:\n",
    "        node = need_visit.pop(0)\n",
    "        if node not in seen:\n",
    "            print (\"I am looking at %s\" % node)\n",
    "            seen.add(node)\n",
    "            new_discovered = list(graph[node])\n",
    "            need_visit += new_discovered"
   ]
  },
  {
   "cell_type": "code",
   "execution_count": 9,
   "metadata": {},
   "outputs": [
    {
     "name": "stdout",
     "output_type": "stream",
     "text": [
      "I am looking at 北京\n",
      "I am looking at 广州\n",
      "I am looking at 哈尔滨\n",
      "I am looking at 深圳\n",
      "I am looking at 纽约\n",
      "I am looking at 武汉\n",
      "I am looking at 新加坡\n",
      "I am looking at 清迈\n"
     ]
    }
   ],
   "source": [
    "search(air_route, BJ)"
   ]
  },
  {
   "cell_type": "code",
   "execution_count": 10,
   "metadata": {},
   "outputs": [],
   "source": [
    "def search_pathes(graph,start,destination,all_path=True):\n",
    "    \"\"\"the @param start and @param destination are variable to specify which vertex we start. \"\"\"\n",
    "    seen = set()\n",
    "    pathes = [[start]] # 增加一个变量，与search 程序类似，但是每一个元素不是单个节点，而是一条路径\n",
    "    chosen_pathes = [] # 满足我们条件的路径\n",
    "    while pathes:\n",
    "        path = pathes.pop(0)\n",
    "        frontier = path[-1]\n",
    "        if (not all_path) and (frontier in seen): continue # all_path为False时，只会得到最短路径\n",
    "        seen.add(frontier)\n",
    "        for city in graph[frontier]:\n",
    "            if city in path: continue # 避免搜索到 类似NY-BJ-NY 的path\n",
    "            new_path = path + [city]\n",
    "            pathes.append(new_path)\n",
    "            if city == destination:  # 是否探索到我们的目标\n",
    "                chosen_pathes.append(new_path)\n",
    "    return chosen_pathes"
   ]
  },
  {
   "cell_type": "code",
   "execution_count": 21,
   "metadata": {},
   "outputs": [],
   "source": [
    "def draw_route(pathes): return '\\n'.join(' ✈️ -> '.join(path) for path in pathes)\n"
   ]
  },
  {
   "cell_type": "code",
   "execution_count": 22,
   "metadata": {},
   "outputs": [
    {
     "name": "stdout",
     "output_type": "stream",
     "text": [
      "哈尔滨 ✈️ -> 北京 ✈️ -> 广州\n",
      "哈尔滨 ✈️ -> 北京 ✈️ -> 武汉 ✈️ -> 广州\n",
      "哈尔滨 ✈️ -> 北京 ✈️ -> 深圳 ✈️ -> 新加坡 ✈️ -> 广州\n"
     ]
    }
   ],
   "source": [
    "print(draw_route(search_pathes(air_route, HEB, GZ)))"
   ]
  },
  {
   "cell_type": "markdown",
   "metadata": {},
   "source": [
    "## Probability Based Intelligent Agent"
   ]
  },
  {
   "cell_type": "code",
   "execution_count": 62,
   "metadata": {},
   "outputs": [],
   "source": [
    "import pandas as pd\n",
    "import matplotlib.pyplot as plt\n",
    "import tarfile\n",
    "\n",
    "#uncompressed_file = tarfile.open('80k.tar.gz')\n",
    "#uncompressed_file.extractall()\n",
    "news_content = open('80k_articles.txt').read()"
   ]
  },
  {
   "cell_type": "code",
   "execution_count": 63,
   "metadata": {},
   "outputs": [
    {
     "data": {
      "text/plain": [
       "'新华社照片，东莞（广东），2017年4月7日\\\\n（体育）（9）篮球——CBA总决赛第四场：广东对阵新疆\\\\n4月7日，广东东莞银行队球员易建联在比赛中扣篮。\\\\n当日，在2016-2017赛季中国男子篮球职业联赛（CBA）总决赛第四场比赛中，广东东莞银行队主场迎战新疆喀什古城队。\\\\n新华社记者孟永民摄\\\\n\\u3000\\u3000新华社北京４月１４日新媒体专电（记者杨烨）作为国民经济的重要支柱，央企一季度交上了一份漂亮的“'"
      ]
     },
     "execution_count": 63,
     "metadata": {},
     "output_type": "execute_result"
    }
   ],
   "source": [
    "news_content[:200]"
   ]
  },
  {
   "cell_type": "code",
   "execution_count": 64,
   "metadata": {},
   "outputs": [],
   "source": [
    "import re\n",
    "\n",
    "def tokenize(string): \n",
    "    return ''.join(re.findall('[\\w|\\d]+', string)) # vk'k"
   ]
  },
  {
   "cell_type": "code",
   "execution_count": 65,
   "metadata": {},
   "outputs": [
    {
     "data": {
      "text/plain": [
       "'新华社华盛顿４月１３日电记者林小春寻找外星生命目前最理想的地点可能是土星卫星土卫二上的冰封小世界'"
      ]
     },
     "execution_count": 65,
     "metadata": {},
     "output_type": "execute_result"
    }
   ],
   "source": [
    "tokenize('\\u3000\\u3000新华社华盛顿４月１３日电（记者林小春）寻找外星生命，目前最理想的地点可能是土星卫星土卫二上的冰封小世界。')"
   ]
  },
  {
   "cell_type": "code",
   "execution_count": 66,
   "metadata": {},
   "outputs": [],
   "source": [
    "import jieba\n",
    "\n",
    "all_text_words = list(jieba.cut(tokenize(news_content)))"
   ]
  },
  {
   "cell_type": "code",
   "execution_count": 67,
   "metadata": {},
   "outputs": [
    {
     "data": {
      "text/plain": [
       "['新华社', '照片', '东莞', '广东', '2017', '年', '4', '月', '7', '日']"
      ]
     },
     "execution_count": 67,
     "metadata": {},
     "output_type": "execute_result"
    }
   ],
   "source": [
    "all_text_words[:10]"
   ]
  },
  {
   "cell_type": "code",
   "execution_count": 71,
   "metadata": {},
   "outputs": [],
   "source": [
    "from collections import Counter\n",
    "from functools import reduce\n",
    "import operator as op"
   ]
  },
  {
   "cell_type": "code",
   "execution_count": 72,
   "metadata": {},
   "outputs": [],
   "source": [
    "from collections import Counter\n",
    "\n",
    "num_counts = Counter([1, 2, 2, 3, 1, 2, 5, 6, 5])"
   ]
  },
  {
   "cell_type": "code",
   "execution_count": 74,
   "metadata": {},
   "outputs": [
    {
     "data": {
      "text/plain": [
       "[(2, 3), (1, 2), (5, 2), (3, 1), (6, 1)]"
      ]
     },
     "execution_count": 74,
     "metadata": {},
     "output_type": "execute_result"
    }
   ],
   "source": [
    "num_counts.most_common()"
   ]
  },
  {
   "cell_type": "code",
   "execution_count": 78,
   "metadata": {},
   "outputs": [
    {
     "data": {
      "text/plain": [
       "True"
      ]
     },
     "execution_count": 78,
     "metadata": {},
     "output_type": "execute_result"
    }
   ],
   "source": [
    "import operator as op\n",
    "\n",
    "reduce(lambda a, b: a + b, range(1, 101)) == reduce(op.add, range(1, 101))\n",
    "#True"
   ]
  },
  {
   "cell_type": "code",
   "execution_count": 87,
   "metadata": {},
   "outputs": [],
   "source": [
    "word_counts = Counter(all_text_words)\n",
    "\n",
    "def get_words_1_gram_prob(word):\n",
    "    \"\"\"获得某一个单词的概率\"\"\"\n",
    "    return word_counts[word] / len(all_text_words)\n",
    "\n",
    "\n",
    "def get_1_gram_string_prob(words):\n",
    "    \"\"\"使用 reduce 函数获得单个概率的连乘概率\"\"\"\n",
    "    return reduce(op.mul, [get_words_1_gram_prob(w) for w in words])"
   ]
  },
  {
   "cell_type": "code",
   "execution_count": 80,
   "metadata": {},
   "outputs": [
    {
     "data": {
      "text/plain": [
       "4.990318143018168e-06"
      ]
     },
     "execution_count": 80,
     "metadata": {},
     "output_type": "execute_result"
    }
   ],
   "source": [
    "get_words_1_gram_prob('你好')"
   ]
  },
  {
   "cell_type": "code",
   "execution_count": 85,
   "metadata": {},
   "outputs": [
    {
     "data": {
      "text/plain": [
       "7.293541901334245e-06"
      ]
     },
     "execution_count": 85,
     "metadata": {},
     "output_type": "execute_result"
    }
   ],
   "source": [
    "get_words_1_gram_prob('非凡')"
   ]
  },
  {
   "cell_type": "code",
   "execution_count": 84,
   "metadata": {},
   "outputs": [
    {
     "data": {
      "text/plain": [
       "9.283271314768412e-05"
      ]
     },
     "execution_count": 84,
     "metadata": {},
     "output_type": "execute_result"
    }
   ],
   "source": [
    "get_words_1_gram_prob('经常')"
   ]
  },
  {
   "cell_type": "code",
   "execution_count": 89,
   "metadata": {},
   "outputs": [],
   "source": [
    "def cut(s): return list(jieba.cut(s))"
   ]
  },
  {
   "cell_type": "code",
   "execution_count": 92,
   "metadata": {},
   "outputs": [
    {
     "data": {
      "text/plain": [
       "6.096154456004725e-22"
      ]
     },
     "execution_count": 92,
     "metadata": {},
     "output_type": "execute_result"
    }
   ],
   "source": [
    "get_1_gram_string_prob(cut('这是一个比较正常的句子'))"
   ]
  },
  {
   "cell_type": "code",
   "execution_count": 93,
   "metadata": {},
   "outputs": [
    {
     "data": {
      "text/plain": [
       "1.815398937266113e-22"
      ]
     },
     "execution_count": 93,
     "metadata": {},
     "output_type": "execute_result"
    }
   ],
   "source": [
    "get_1_gram_string_prob(cut('这是一个比较罕见的句子'))"
   ]
  },
  {
   "cell_type": "code",
   "execution_count": 94,
   "metadata": {},
   "outputs": [
    {
     "data": {
      "text/plain": [
       "1.934640052079795e-22"
      ]
     },
     "execution_count": 94,
     "metadata": {},
     "output_type": "execute_result"
    }
   ],
   "source": [
    "get_1_gram_string_prob(cut('杭州有一个地方叫西湖'))"
   ]
  },
  {
   "cell_type": "code",
   "execution_count": 95,
   "metadata": {},
   "outputs": [
    {
     "data": {
      "text/plain": [
       "2.950269728523436e-30"
      ]
     },
     "execution_count": 95,
     "metadata": {},
     "output_type": "execute_result"
    }
   ],
   "source": [
    "get_1_gram_string_prob(cut('广州有一个地方叫沥窖'))"
   ]
  },
  {
   "cell_type": "code",
   "execution_count": 111,
   "metadata": {},
   "outputs": [
    {
     "data": {
      "text/plain": [
       "2.699586189254398e-18"
      ]
     },
     "execution_count": 111,
     "metadata": {},
     "output_type": "execute_result"
    }
   ],
   "source": [
    "get_1_gram_string_prob(cut('小明毕业于清华大学'))"
   ]
  },
  {
   "cell_type": "code",
   "execution_count": 112,
   "metadata": {},
   "outputs": [
    {
     "data": {
      "text/plain": [
       "5.867853659716647e-24"
      ]
     },
     "execution_count": 112,
     "metadata": {},
     "output_type": "execute_result"
    }
   ],
   "source": [
    "get_1_gram_string_prob(cut('小明毕业于秦华大学'))"
   ]
  },
  {
   "cell_type": "code",
   "execution_count": 109,
   "metadata": {},
   "outputs": [],
   "source": []
  },
  {
   "cell_type": "code",
   "execution_count": 175,
   "metadata": {},
   "outputs": [],
   "source": [
    "need_compared = [\n",
    "        \"明天晚上请你吃大餐，我们一起吃日料 明天晚上请你吃大餐，我们一起吃苹果\",\n",
    "        \"真事一只好看的小猫  真是一只好看的小猫\",\n",
    "        \"我去吃火锅，今晚      我今晚去吃火锅\"\n",
    "]\n",
    "\n",
    "def get_result_from_sentences(sentences):\n",
    "    for s in sentences:\n",
    "        s1, s2 = s.split()\n",
    "        p1, p2 = get_1_gram_string_prob(cut(tokenize(s1))), get_1_gram_string_prob(cut(tokenize(s2)))\n",
    "\n",
    "        better = s1 if p1 > p2 else s2\n",
    "        print('{} is a more possible sentence'.format(better))\n",
    "        print('-'*4+\"{} with probability {}\".format(s1, p1))\n",
    "        print('-'*4+\"{} with probability {}\".format(s2, p2))\n"
   ]
  },
  {
   "cell_type": "code",
   "execution_count": 176,
   "metadata": {},
   "outputs": [
    {
     "name": "stdout",
     "output_type": "stream",
     "text": [
      "明天晚上请你吃大餐，我们一起吃苹果 is a more possible sentence\n",
      "----明天晚上请你吃大餐，我们一起吃日料 with probability 7.152213836414146e-44\n",
      "----明天晚上请你吃大餐，我们一起吃苹果 with probability 7.187974905596217e-41\n",
      "真是一只好看的小猫 is a more possible sentence\n",
      "----真事一只好看的小猫 with probability 2.5410177006044247e-25\n",
      "----真是一只好看的小猫 with probability 1.1643334144572999e-21\n",
      "我今晚去吃火锅 is a more possible sentence\n",
      "----我去吃火锅，今晚 with probability 8.427110808034184e-19\n",
      "----我今晚去吃火锅 with probability 8.427110808034186e-19\n"
     ]
    }
   ],
   "source": [
    "get_result_from_sentences(need_compared)"
   ]
  },
  {
   "cell_type": "code",
   "execution_count": 123,
   "metadata": {},
   "outputs": [],
   "source": [
    "all_2_gram_words = [''.join(all_text_words[i:i+2]) for i in range(len(all_text_words)-2)]\n",
    "word_count_2_gram = Counter(all_2_gram_words)"
   ]
  },
  {
   "cell_type": "code",
   "execution_count": 129,
   "metadata": {},
   "outputs": [
    {
     "data": {
      "text/plain": [
       "['新华社照片', '照片东莞', '东莞广东', '广东2017', '2017年', '年4']"
      ]
     },
     "execution_count": 129,
     "metadata": {},
     "output_type": "execute_result"
    }
   ],
   "source": [
    "all_2_gram_words[:6]"
   ]
  },
  {
   "cell_type": "code",
   "execution_count": 138,
   "metadata": {},
   "outputs": [],
   "source": [
    "def get_words_2_gram_prob(word1, word2):\n",
    "    \"\"\"获得某一个词组的概率\"\"\"\n",
    "    if word1 + word2 in word_count_2_gram:\n",
    "        return word_count_2_gram[word1 + word2] / len(all_2_gram_words)\n",
    "    else:\n",
    "        return (get_words_1_gram_prob(word1) + get_words_1_gram_prob(word2)) / 2"
   ]
  },
  {
   "cell_type": "code",
   "execution_count": 132,
   "metadata": {},
   "outputs": [
    {
     "data": {
      "text/plain": [
       "1.6634395938545887e-06"
      ]
     },
     "execution_count": 132,
     "metadata": {},
     "output_type": "execute_result"
    }
   ],
   "source": [
    "get_words_2_gram_prob('我', '今天')"
   ]
  },
  {
   "cell_type": "code",
   "execution_count": 179,
   "metadata": {},
   "outputs": [],
   "source": [
    "def get_2_gram_string_prob(words):\n",
    "    \"\"\"Gets the sentence proabbility by 2-gram model\"\"\"\n",
    "    probabilities = []\n",
    "    \n",
    "    for i in range(len(words)-1):\n",
    "        w1, w2 = words[i], words[i+1]\n",
    "        probabilities.append(get_words_2_gram_prob(w1, w2))\n",
    "    \n",
    "    return reduce(op.mul, probabilities)\n",
    "        \n",
    "\n",
    "def get_2_gram_result_from_sentences(sentences):\n",
    "    \"\"\"Compares the results of our sentences. \"\"\"\n",
    "    for s in sentences:\n",
    "        s1, s2 = s.split()\n",
    "        p1, p2 = get_2_gram_string_prob(cut(tokenize(s1))), get_2_gram_string_prob(cut(tokenize(s2)))\n",
    "\n",
    "        better = s1 if p1 > p2 else s2\n",
    "        print('{} is a more possible sentence'.format(better))\n",
    "        print('-'*4+\"{} with probability {}\".format(s1, p1))\n",
    "        print('-'*4+\"{} with probability {}\".format(s2, p2))"
   ]
  },
  {
   "cell_type": "code",
   "execution_count": 180,
   "metadata": {},
   "outputs": [
    {
     "name": "stdout",
     "output_type": "stream",
     "text": [
      "明天晚上请你吃大餐，我们一起吃日料 is a more possible sentence\n",
      "----明天晚上请你吃大餐，我们一起吃日料 with probability 1.4578520874467007e-43\n",
      "----明天晚上请你吃大餐，我们一起吃苹果 with probability 4.960790383628831e-46\n",
      "真是一只好看的小猫 is a more possible sentence\n",
      "----真事一只好看的小猫 with probability 8.393562491686215e-25\n",
      "----真是一只好看的小猫 with probability 6.012110215869111e-21\n",
      "我今晚去吃火锅 is a more possible sentence\n",
      "----我去吃火锅，今晚 with probability 2.6799687241646258e-15\n",
      "----我今晚去吃火锅 with probability 5.238120688139951e-15\n"
     ]
    }
   ],
   "source": [
    "get_2_gram_result_from_sentences(need_compared)"
   ]
  },
  {
   "cell_type": "code",
   "execution_count": 182,
   "metadata": {},
   "outputs": [
    {
     "data": {
      "text/html": [
       "<div>\n",
       "<style scoped>\n",
       "    .dataframe tbody tr th:only-of-type {\n",
       "        vertical-align: middle;\n",
       "    }\n",
       "\n",
       "    .dataframe tbody tr th {\n",
       "        vertical-align: top;\n",
       "    }\n",
       "\n",
       "    .dataframe thead th {\n",
       "        text-align: right;\n",
       "    }\n",
       "</style>\n",
       "<table border=\"1\" class=\"dataframe\">\n",
       "  <thead>\n",
       "    <tr style=\"text-align: right;\">\n",
       "      <th></th>\n",
       "      <th>PassengerId</th>\n",
       "      <th>Survived</th>\n",
       "      <th>Pclass</th>\n",
       "      <th>Name</th>\n",
       "      <th>Sex</th>\n",
       "      <th>Age</th>\n",
       "      <th>SibSp</th>\n",
       "      <th>Parch</th>\n",
       "      <th>Ticket</th>\n",
       "      <th>Fare</th>\n",
       "      <th>Cabin</th>\n",
       "      <th>Embarked</th>\n",
       "    </tr>\n",
       "  </thead>\n",
       "  <tbody>\n",
       "    <tr>\n",
       "      <th>0</th>\n",
       "      <td>1</td>\n",
       "      <td>0</td>\n",
       "      <td>3</td>\n",
       "      <td>Braund, Mr. Owen Harris</td>\n",
       "      <td>male</td>\n",
       "      <td>22.0</td>\n",
       "      <td>1</td>\n",
       "      <td>0</td>\n",
       "      <td>A/5 21171</td>\n",
       "      <td>7.2500</td>\n",
       "      <td>NaN</td>\n",
       "      <td>S</td>\n",
       "    </tr>\n",
       "    <tr>\n",
       "      <th>1</th>\n",
       "      <td>2</td>\n",
       "      <td>1</td>\n",
       "      <td>1</td>\n",
       "      <td>Cumings, Mrs. John Bradley (Florence Briggs Th...</td>\n",
       "      <td>female</td>\n",
       "      <td>38.0</td>\n",
       "      <td>1</td>\n",
       "      <td>0</td>\n",
       "      <td>PC 17599</td>\n",
       "      <td>71.2833</td>\n",
       "      <td>C85</td>\n",
       "      <td>C</td>\n",
       "    </tr>\n",
       "    <tr>\n",
       "      <th>2</th>\n",
       "      <td>3</td>\n",
       "      <td>1</td>\n",
       "      <td>3</td>\n",
       "      <td>Heikkinen, Miss. Laina</td>\n",
       "      <td>female</td>\n",
       "      <td>26.0</td>\n",
       "      <td>0</td>\n",
       "      <td>0</td>\n",
       "      <td>STON/O2. 3101282</td>\n",
       "      <td>7.9250</td>\n",
       "      <td>NaN</td>\n",
       "      <td>S</td>\n",
       "    </tr>\n",
       "    <tr>\n",
       "      <th>3</th>\n",
       "      <td>4</td>\n",
       "      <td>1</td>\n",
       "      <td>1</td>\n",
       "      <td>Futrelle, Mrs. Jacques Heath (Lily May Peel)</td>\n",
       "      <td>female</td>\n",
       "      <td>35.0</td>\n",
       "      <td>1</td>\n",
       "      <td>0</td>\n",
       "      <td>113803</td>\n",
       "      <td>53.1000</td>\n",
       "      <td>C123</td>\n",
       "      <td>S</td>\n",
       "    </tr>\n",
       "    <tr>\n",
       "      <th>4</th>\n",
       "      <td>5</td>\n",
       "      <td>0</td>\n",
       "      <td>3</td>\n",
       "      <td>Allen, Mr. William Henry</td>\n",
       "      <td>male</td>\n",
       "      <td>35.0</td>\n",
       "      <td>0</td>\n",
       "      <td>0</td>\n",
       "      <td>373450</td>\n",
       "      <td>8.0500</td>\n",
       "      <td>NaN</td>\n",
       "      <td>S</td>\n",
       "    </tr>\n",
       "  </tbody>\n",
       "</table>\n",
       "</div>"
      ],
      "text/plain": [
       "   PassengerId  Survived  Pclass  \\\n",
       "0            1         0       3   \n",
       "1            2         1       1   \n",
       "2            3         1       3   \n",
       "3            4         1       1   \n",
       "4            5         0       3   \n",
       "\n",
       "                                                Name     Sex   Age  SibSp  \\\n",
       "0                            Braund, Mr. Owen Harris    male  22.0      1   \n",
       "1  Cumings, Mrs. John Bradley (Florence Briggs Th...  female  38.0      1   \n",
       "2                             Heikkinen, Miss. Laina  female  26.0      0   \n",
       "3       Futrelle, Mrs. Jacques Heath (Lily May Peel)  female  35.0      1   \n",
       "4                           Allen, Mr. William Henry    male  35.0      0   \n",
       "\n",
       "   Parch            Ticket     Fare Cabin Embarked  \n",
       "0      0         A/5 21171   7.2500   NaN        S  \n",
       "1      0          PC 17599  71.2833   C85        C  \n",
       "2      0  STON/O2. 3101282   7.9250   NaN        S  \n",
       "3      0            113803  53.1000  C123        S  \n",
       "4      0            373450   8.0500   NaN        S  "
      ]
     },
     "execution_count": 182,
     "metadata": {},
     "output_type": "execute_result"
    }
   ],
   "source": [
    "import pandas as pd\n",
    "\n",
    "titanic_content = pd.read_csv(open('../../datasource/titanic_train.csv'))\n",
    "titanic_content.head()"
   ]
  },
  {
   "cell_type": "code",
   "execution_count": 188,
   "metadata": {},
   "outputs": [
    {
     "data": {
      "image/png": "[encoded data removed]",
      "text/plain": [
       "<Figure size 432x288 with 1 Axes>"
      ]
     },
     "metadata": {
      "needs_background": "light"
     },
     "output_type": "display_data"
    }
   ],
   "source": [
    "age_with_fare = titanic_content[['Age', 'Fare']]\n",
    "age_with_fare = age_with_fare[ (age_with_fare['Age'] > 25) & (age_with_fare['Fare'] < 450) & \n",
    "                              (age_with_fare['Fare'] > 160)]\n",
    "age = age_with_fare['Age']\n",
    "fare = age_with_fare['Fare']\n",
    "plt.scatter(age, fare)\n",
    "plt.show()"
   ]
  },
  {
   "cell_type": "code",
   "execution_count": 189,
   "metadata": {},
   "outputs": [],
   "source": [
    "import random"
   ]
  },
  {
   "cell_type": "code",
   "execution_count": 192,
   "metadata": {},
   "outputs": [],
   "source": [
    "minmum, maximum = -99999, 999999"
   ]
  },
  {
   "cell_type": "code",
   "execution_count": 196,
   "metadata": {},
   "outputs": [],
   "source": [
    "def loss(y_hat, y):\n",
    "    assert len(y_hat) == len(y)\n",
    "    return sum(abs(y_hat_i - y_i) for y_hat_i, y_i in zip(y_hat, y)) / len(y_hat)"
   ]
  },
  {
   "cell_type": "code",
   "execution_count": 197,
   "metadata": {},
   "outputs": [
    {
     "data": {
      "text/plain": [
       "150.0"
      ]
     },
     "execution_count": 197,
     "metadata": {},
     "output_type": "execute_result"
    }
   ],
   "source": [
    "loss([100, 200], [-100, 300])"
   ]
  },
  {
   "cell_type": "code",
   "execution_count": 199,
   "metadata": {},
   "outputs": [
    {
     "data": {
      "text/plain": [
       "0.6999999999999981"
      ]
     },
     "execution_count": 199,
     "metadata": {},
     "output_type": "execute_result"
    }
   ],
   "source": [
    "loss(y_hat=[100.1, 201, 199], y=[100, 200, 200])"
   ]
  },
  {
   "cell_type": "code",
   "execution_count": 202,
   "metadata": {},
   "outputs": [],
   "source": [
    "import numpy as np\n",
    "\n",
    "def loss(y_hat, y): \n",
    "    return np.mean(np.abs(y_hat - y))"
   ]
  },
  {
   "cell_type": "code",
   "execution_count": 205,
   "metadata": {},
   "outputs": [
    {
     "data": {
      "text/plain": [
       "0.6999999999999981"
      ]
     },
     "execution_count": 205,
     "metadata": {},
     "output_type": "execute_result"
    }
   ],
   "source": [
    "loss(np.array([100.1, 201, 199]), np.array([100, 200, 200]))"
   ]
  },
  {
   "cell_type": "code",
   "execution_count": 233,
   "metadata": {},
   "outputs": [],
   "source": [
    "total = 100\n",
    "\n",
    "age = age_with_fare['Age']\n",
    "fare = age_with_fare['Fare']\n",
    "\n",
    "\n",
    "def get_best_parameters(total_generated):\n",
    "    min_loss = float('inf')\n",
    "    best_k, best_b = None, None\n",
    "\n",
    "    while total_generated > 0: \n",
    "        k, b = random.randint(minmum, maximum), random.randint(minmum, maximum)\n",
    "        fare_hats = k * age + b\n",
    "        current_loss = loss(fare, fare_hats)\n",
    "        if current_loss < min_loss: \n",
    "            min_loss = current_loss\n",
    "            best_k, best_b = k, b\n",
    "     \n",
    "        total_generated -= 1\n",
    "\n",
    "    print('best loss is {}'.format(min_loss))\n",
    "    print('-- with k: {}, b: {}'.format(best_k, best_b))\n",
    "    \n",
    "    return min_loss, best_k, best_b"
   ]
  },
  {
   "cell_type": "code",
   "execution_count": 269,
   "metadata": {},
   "outputs": [],
   "source": [
    "directions = {(-1, +1), (+1, -1), (-1, -1), (+1, +1)}\n",
    "d = random.choice(list(directions))"
   ]
  },
  {
   "cell_type": "code",
   "execution_count": 251,
   "metadata": {},
   "outputs": [],
   "source": [
    "a = {1, 2, 3}"
   ]
  },
  {
   "cell_type": "code",
   "execution_count": 318,
   "metadata": {},
   "outputs": [],
   "source": [
    "def get_best_parameters_with_supervised(total_generated):\n",
    "    min_loss = float('inf')\n",
    "    best_k, best_b = None, None\n",
    "    \n",
    "    k, b = 1, 1\n",
    "    \n",
    "    step = 1\n",
    "    \n",
    "    directions = {(-1, +1), (+1, -1), (-1, -1), (+1, +1)}\n",
    "    d = random.choice(list(directions))\n",
    "    \n",
    "    while total_generated > 0:\n",
    "        k += step * d[0]; b += step * d[1]\n",
    "        fare_hats = k * age + b\n",
    "        current_loss = loss(fare, fare_hats)\n",
    "        \n",
    "        if current_loss < min_loss: \n",
    "            min_loss = current_loss\n",
    "        else:\n",
    "            d = random.choice(list(set(direction) - {d}))\n",
    "            # the next direction will be random a new direcion\n",
    "            # and this diretion not is the current direction\n",
    "     \n",
    "        total_generated -= 1\n",
    "\n",
    "    print('best loss is {}'.format(min_loss))\n",
    "    print('-- with k: {}, b: {}'.format(k, b))\n",
    "    \n",
    "    return min_loss, k, b"
   ]
  },
  {
   "cell_type": "code",
   "execution_count": 322,
   "metadata": {},
   "outputs": [
    {
     "name": "stdout",
     "output_type": "stream",
     "text": [
      "best loss is 35.78102222222222\n",
      "-- with k: 3, b: 17\n"
     ]
    },
    {
     "data": {
      "text/plain": [
       "(35.78102222222222, 3, 17)"
      ]
     },
     "execution_count": 322,
     "metadata": {},
     "output_type": "execute_result"
    }
   ],
   "source": [
    "get_best_parameters_with_supervised(100)"
   ]
  },
  {
   "cell_type": "code",
   "execution_count": 295,
   "metadata": {},
   "outputs": [
    {
     "name": "stdout",
     "output_type": "stream",
     "text": [
      "best loss is 35.78102222222222\n",
      "-- with k: 5, b: 9\n"
     ]
    },
    {
     "data": {
      "text/plain": [
       "(35.78102222222222, 5, 9)"
      ]
     },
     "execution_count": 295,
     "metadata": {},
     "output_type": "execute_result"
    }
   ],
   "source": [
    "get_best_parameters(30)"
   ]
  },
  {
   "cell_type": "code",
   "execution_count": 329,
   "metadata": {},
   "outputs": [
    {
     "data": {
      "text/plain": [
       "[<matplotlib.lines.Line2D at 0x1c3dc9f98>]"
      ]
     },
     "execution_count": 329,
     "metadata": {},
     "output_type": "execute_result"
    },
    {
     "data": {
      "image/png": "[encoded data removed]",
      "text/plain": [
       "<Figure size 432x288 with 1 Axes>"
      ]
     },
     "metadata": {
      "needs_background": "light"
     },
     "output_type": "display_data"
    }
   ],
   "source": [
    "fare_hats = -1590 * age + 45356\n",
    "plt.scatter(age, fare)\n",
    "plt.plot(age, fare_hats)"
   ]
  },
  {
   "cell_type": "code",
   "execution_count": 324,
   "metadata": {},
   "outputs": [
    {
     "data": {
      "text/plain": [
       "[<matplotlib.lines.Line2D at 0x1c39d9b70>]"
      ]
     },
     "execution_count": 324,
     "metadata": {},
     "output_type": "execute_result"
    },
    {
     "data": {
      "image/png": "[encoded data removed]",
      "text/plain": [
       "<Figure size 432x288 with 1 Axes>"
      ]
     },
     "metadata": {
      "needs_background": "light"
     },
     "output_type": "display_data"
    }
   ],
   "source": [
    "fare_hats = 3 * age + 97\n",
    "plt.scatter(age, fare)\n",
    "plt.plot(age, fare_hats)"
   ]
  },
  {
   "cell_type": "code",
   "execution_count": 296,
   "metadata": {},
   "outputs": [
    {
     "data": {
      "text/plain": [
       "[<matplotlib.lines.Line2D at 0x1c36e0240>]"
      ]
     },
     "execution_count": 296,
     "metadata": {},
     "output_type": "execute_result"
    },
    {
     "data": {
      "image/png": "[encoded data removed]",
      "text/plain": [
       "<Figure size 432x288 with 1 Axes>"
      ]
     },
     "metadata": {
      "needs_background": "light"
     },
     "output_type": "display_data"
    }
   ],
   "source": [
    "fare_hats = 5 * age + 9\n",
    "plt.scatter(fare, age)\n",
    "plt.plot(fare_hats, age)"
   ]
  },
  {
   "cell_type": "code",
   "execution_count": 237,
   "metadata": {},
   "outputs": [
    {
     "name": "stdout",
     "output_type": "stream",
     "text": [
      "best loss is 590011.6134222221\n",
      "-- with k: -2894, b: 708880\n",
      "best loss is 174732.95137777776\n",
      "-- with k: -16190, b: 771259\n",
      "best loss is 18018.057866666662\n",
      "-- with k: -1191, b: 64371\n",
      "best loss is 13119.613422222223\n",
      "-- with k: 348, b: -934\n",
      "best loss is 4884.386577777777\n",
      "-- with k: 33, b: -6023\n",
      "best loss is 786.3865777777778\n",
      "-- with k: -44, b: 1232\n"
     ]
    }
   ],
   "source": [
    "Ns = [10, 100, 1000, 10000, 100000, 1000000]\n",
    "losses = [get_best_parameters(total_generated=n)[0] for n in Ns]\n",
    "plt.plot(Ns, lossess)"
   ]
  },
  {
   "cell_type": "code",
   "execution_count": 247,
   "metadata": {},
   "outputs": [
    {
     "data": {
      "text/plain": [
       "[<matplotlib.lines.Line2D at 0x1c340d978>]"
      ]
     },
     "execution_count": 247,
     "metadata": {},
     "output_type": "execute_result"
    },
    {
     "data": {
      "image/png": "[encoded data removed]",
      "text/plain": [
       "<Figure size 432x288 with 1 Axes>"
      ]
     },
     "metadata": {
      "needs_background": "light"
     },
     "output_type": "display_data"
    }
   ],
   "source": [
    "plt.plot(np.log10(Ns), np.log10(losses))"
   ]
  }
 ],
 "metadata": {
  "kernelspec": {
   "display_name": "Python 3",
   "language": "python",
   "name": "python3"
  },
  "language_info": {
   "codemirror_mode": {
    "name": "ipython",
    "version": 3
   },
   "file_extension": ".py",
   "mimetype": "text/x-python",
   "name": "python",
   "nbconvert_exporter": "python",
   "pygments_lexer": "ipython3",
   "version": "3.6.7"
  }
 },
 "nbformat": 4,
 "nbformat_minor": 2
}
