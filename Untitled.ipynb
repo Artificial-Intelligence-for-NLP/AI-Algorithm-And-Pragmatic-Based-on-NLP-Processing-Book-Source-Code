{
 "cells": [
  {
   "cell_type": "code",
   "execution_count": 4,
   "metadata": {},
   "outputs": [],
   "source": [
    "chapter_names = \"\"\"\n",
    "人工智能编程范式之数据驱动与概率模型\n",
    "人工智能编程范式之智能搜索与机器学习\n",
    "搜索更近一步-动态规划与线性优化\n",
    "计算机如何处理语言？自然语言理解初步\n",
    "搜索引擎与文档检索\n",
    "项目实例分析一-新闻人物言论自动提取\n",
    "经典机器学习(一)\n",
    "经典机器学习(二)\n",
    "深度学习初步\n",
    "项目实例分析二-细粒度客户评论自动分类\n",
    "word embedding与词向量\n",
    "CNN卷积神经网络\n",
    "RNN循环神经网络\n",
    "Attention机制与BERT\n",
    "人工智能以及深度学习高级问题\n",
    "现代计算机体系下人工智能与深度学习的问题与极限\n",
    "文本自动摘要系统的构建及其代码实现\n",
    "面向服务的对话机器人的构建及其代码实现\n",
    "附录一. 计算机数学基础\n",
    "附录二. 正则表达式\n",
    "附录三. python高级编程方法\n",
    "附录四. 数学建模方法论\n",
    "附录五. 经典AI论文推荐引读\n",
    "\"\"\""
   ]
  },
  {
   "cell_type": "code",
   "execution_count": 7,
   "metadata": {},
   "outputs": [],
   "source": [
    "chapt_index = 1\n",
    "\n",
    "for chap in chapter_names.split('\\n'):\n",
    "    if not chap: continue\n",
    "        \n",
    "    with open('Chap-{}-{}.md'.format(str(chapt_index).zfill(2), chap), 'w+') as f:\n",
    "        pass\n",
    "    \n",
    "    chapt_index += 1"
   ]
  }
 ],
 "metadata": {
  "kernelspec": {
   "display_name": "Python 3",
   "language": "python",
   "name": "python3"
  },
  "language_info": {
   "codemirror_mode": {
    "name": "ipython",
    "version": 3
   },
   "file_extension": ".py",
   "mimetype": "text/x-python",
   "name": "python",
   "nbconvert_exporter": "python",
   "pygments_lexer": "ipython3",
   "version": "3.7.3"
  }
 },
 "nbformat": 4,
 "nbformat_minor": 2
}
